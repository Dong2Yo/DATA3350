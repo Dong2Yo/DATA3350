{
  "cells": [
    {
      "cell_type": "markdown",
      "metadata": {
        "id": "view-in-github",
        "colab_type": "text"
      },
      "source": [
        "<a href=\"https://colab.research.google.com/github/Dong2Yo/DATA3350/blob/main/notebooks/cinema_tickets_analysis.ipynb\" target=\"_parent\"><img src=\"https://colab.research.google.com/assets/colab-badge.svg\" alt=\"Open In Colab\"/></a>"
      ]
    },
    {
      "cell_type": "code",
      "execution_count": 1,
      "id": "92bd8f80",
      "metadata": {
        "execution": {
          "iopub.execute_input": "2022-08-16T02:08:13.031705Z",
          "iopub.status.busy": "2022-08-16T02:08:13.030969Z",
          "iopub.status.idle": "2022-08-16T02:08:14.226639Z",
          "shell.execute_reply": "2022-08-16T02:08:14.225450Z"
        },
        "id": "92bd8f80",
        "papermill": {
          "duration": 1.210713,
          "end_time": "2022-08-16T02:08:14.229774",
          "exception": false,
          "start_time": "2022-08-16T02:08:13.019061",
          "status": "completed"
        },
        "tags": []
      },
      "outputs": [],
      "source": [
        "import pandas as pd\n",
        "import matplotlib.pyplot as plt\n",
        "import numpy as np\n",
        "import seaborn as sns\n",
        "\n",
        "%matplotlib inline"
      ]
    },
    {
      "cell_type": "code",
      "execution_count": 2,
      "id": "c388fd6a",
      "metadata": {
        "execution": {
          "iopub.execute_input": "2022-08-16T02:08:14.249753Z",
          "iopub.status.busy": "2022-08-16T02:08:14.248887Z",
          "iopub.status.idle": "2022-08-16T02:08:14.613964Z",
          "shell.execute_reply": "2022-08-16T02:08:14.612694Z"
        },
        "id": "c388fd6a",
        "outputId": "5057e179-8c97-4816-feb9-239f228d04aa",
        "papermill": {
          "duration": 0.378341,
          "end_time": "2022-08-16T02:08:14.617190",
          "exception": false,
          "start_time": "2022-08-16T02:08:14.238849",
          "status": "completed"
        },
        "tags": [],
        "colab": {
          "base_uri": "https://localhost:8080/",
          "height": 313
        }
      },
      "outputs": [
        {
          "output_type": "execute_result",
          "data": {
            "text/plain": [
              "   film_code  cinema_code  total_sales  tickets_sold  tickets_out  show_time  \\\n",
              "0       1492          304      3900000            26            0          4   \n",
              "1       1492          352      3360000            42            0          5   \n",
              "2       1492          489      2560000            32            0          4   \n",
              "3       1492          429      1200000            12            0          1   \n",
              "4       1492          524      1200000            15            0          3   \n",
              "\n",
              "   occu_perc  ticket_price  ticket_use    capacity        date  month  \\\n",
              "0       4.26      150000.0          26  610.328638  2018-05-05      5   \n",
              "1       8.08       80000.0          42  519.801980  2018-05-05      5   \n",
              "2      20.00       80000.0          32  160.000000  2018-05-05      5   \n",
              "3      11.01      100000.0          12  108.991826  2018-05-05      5   \n",
              "4      16.67       80000.0          15   89.982004  2018-05-05      5   \n",
              "\n",
              "   quarter  day  \n",
              "0        2    5  \n",
              "1        2    5  \n",
              "2        2    5  \n",
              "3        2    5  \n",
              "4        2    5  "
            ],
            "text/html": [
              "\n",
              "  <div id=\"df-d49cb690-4557-40dd-a056-91c24d0147e1\" class=\"colab-df-container\">\n",
              "    <div>\n",
              "<style scoped>\n",
              "    .dataframe tbody tr th:only-of-type {\n",
              "        vertical-align: middle;\n",
              "    }\n",
              "\n",
              "    .dataframe tbody tr th {\n",
              "        vertical-align: top;\n",
              "    }\n",
              "\n",
              "    .dataframe thead th {\n",
              "        text-align: right;\n",
              "    }\n",
              "</style>\n",
              "<table border=\"1\" class=\"dataframe\">\n",
              "  <thead>\n",
              "    <tr style=\"text-align: right;\">\n",
              "      <th></th>\n",
              "      <th>film_code</th>\n",
              "      <th>cinema_code</th>\n",
              "      <th>total_sales</th>\n",
              "      <th>tickets_sold</th>\n",
              "      <th>tickets_out</th>\n",
              "      <th>show_time</th>\n",
              "      <th>occu_perc</th>\n",
              "      <th>ticket_price</th>\n",
              "      <th>ticket_use</th>\n",
              "      <th>capacity</th>\n",
              "      <th>date</th>\n",
              "      <th>month</th>\n",
              "      <th>quarter</th>\n",
              "      <th>day</th>\n",
              "    </tr>\n",
              "  </thead>\n",
              "  <tbody>\n",
              "    <tr>\n",
              "      <th>0</th>\n",
              "      <td>1492</td>\n",
              "      <td>304</td>\n",
              "      <td>3900000</td>\n",
              "      <td>26</td>\n",
              "      <td>0</td>\n",
              "      <td>4</td>\n",
              "      <td>4.26</td>\n",
              "      <td>150000.0</td>\n",
              "      <td>26</td>\n",
              "      <td>610.328638</td>\n",
              "      <td>2018-05-05</td>\n",
              "      <td>5</td>\n",
              "      <td>2</td>\n",
              "      <td>5</td>\n",
              "    </tr>\n",
              "    <tr>\n",
              "      <th>1</th>\n",
              "      <td>1492</td>\n",
              "      <td>352</td>\n",
              "      <td>3360000</td>\n",
              "      <td>42</td>\n",
              "      <td>0</td>\n",
              "      <td>5</td>\n",
              "      <td>8.08</td>\n",
              "      <td>80000.0</td>\n",
              "      <td>42</td>\n",
              "      <td>519.801980</td>\n",
              "      <td>2018-05-05</td>\n",
              "      <td>5</td>\n",
              "      <td>2</td>\n",
              "      <td>5</td>\n",
              "    </tr>\n",
              "    <tr>\n",
              "      <th>2</th>\n",
              "      <td>1492</td>\n",
              "      <td>489</td>\n",
              "      <td>2560000</td>\n",
              "      <td>32</td>\n",
              "      <td>0</td>\n",
              "      <td>4</td>\n",
              "      <td>20.00</td>\n",
              "      <td>80000.0</td>\n",
              "      <td>32</td>\n",
              "      <td>160.000000</td>\n",
              "      <td>2018-05-05</td>\n",
              "      <td>5</td>\n",
              "      <td>2</td>\n",
              "      <td>5</td>\n",
              "    </tr>\n",
              "    <tr>\n",
              "      <th>3</th>\n",
              "      <td>1492</td>\n",
              "      <td>429</td>\n",
              "      <td>1200000</td>\n",
              "      <td>12</td>\n",
              "      <td>0</td>\n",
              "      <td>1</td>\n",
              "      <td>11.01</td>\n",
              "      <td>100000.0</td>\n",
              "      <td>12</td>\n",
              "      <td>108.991826</td>\n",
              "      <td>2018-05-05</td>\n",
              "      <td>5</td>\n",
              "      <td>2</td>\n",
              "      <td>5</td>\n",
              "    </tr>\n",
              "    <tr>\n",
              "      <th>4</th>\n",
              "      <td>1492</td>\n",
              "      <td>524</td>\n",
              "      <td>1200000</td>\n",
              "      <td>15</td>\n",
              "      <td>0</td>\n",
              "      <td>3</td>\n",
              "      <td>16.67</td>\n",
              "      <td>80000.0</td>\n",
              "      <td>15</td>\n",
              "      <td>89.982004</td>\n",
              "      <td>2018-05-05</td>\n",
              "      <td>5</td>\n",
              "      <td>2</td>\n",
              "      <td>5</td>\n",
              "    </tr>\n",
              "  </tbody>\n",
              "</table>\n",
              "</div>\n",
              "    <div class=\"colab-df-buttons\">\n",
              "\n",
              "  <div class=\"colab-df-container\">\n",
              "    <button class=\"colab-df-convert\" onclick=\"convertToInteractive('df-d49cb690-4557-40dd-a056-91c24d0147e1')\"\n",
              "            title=\"Convert this dataframe to an interactive table.\"\n",
              "            style=\"display:none;\">\n",
              "\n",
              "  <svg xmlns=\"http://www.w3.org/2000/svg\" height=\"24px\" viewBox=\"0 -960 960 960\">\n",
              "    <path d=\"M120-120v-720h720v720H120Zm60-500h600v-160H180v160Zm220 220h160v-160H400v160Zm0 220h160v-160H400v160ZM180-400h160v-160H180v160Zm440 0h160v-160H620v160ZM180-180h160v-160H180v160Zm440 0h160v-160H620v160Z\"/>\n",
              "  </svg>\n",
              "    </button>\n",
              "\n",
              "  <style>\n",
              "    .colab-df-container {\n",
              "      display:flex;\n",
              "      gap: 12px;\n",
              "    }\n",
              "\n",
              "    .colab-df-convert {\n",
              "      background-color: #E8F0FE;\n",
              "      border: none;\n",
              "      border-radius: 50%;\n",
              "      cursor: pointer;\n",
              "      display: none;\n",
              "      fill: #1967D2;\n",
              "      height: 32px;\n",
              "      padding: 0 0 0 0;\n",
              "      width: 32px;\n",
              "    }\n",
              "\n",
              "    .colab-df-convert:hover {\n",
              "      background-color: #E2EBFA;\n",
              "      box-shadow: 0px 1px 2px rgba(60, 64, 67, 0.3), 0px 1px 3px 1px rgba(60, 64, 67, 0.15);\n",
              "      fill: #174EA6;\n",
              "    }\n",
              "\n",
              "    .colab-df-buttons div {\n",
              "      margin-bottom: 4px;\n",
              "    }\n",
              "\n",
              "    [theme=dark] .colab-df-convert {\n",
              "      background-color: #3B4455;\n",
              "      fill: #D2E3FC;\n",
              "    }\n",
              "\n",
              "    [theme=dark] .colab-df-convert:hover {\n",
              "      background-color: #434B5C;\n",
              "      box-shadow: 0px 1px 3px 1px rgba(0, 0, 0, 0.15);\n",
              "      filter: drop-shadow(0px 1px 2px rgba(0, 0, 0, 0.3));\n",
              "      fill: #FFFFFF;\n",
              "    }\n",
              "  </style>\n",
              "\n",
              "    <script>\n",
              "      const buttonEl =\n",
              "        document.querySelector('#df-d49cb690-4557-40dd-a056-91c24d0147e1 button.colab-df-convert');\n",
              "      buttonEl.style.display =\n",
              "        google.colab.kernel.accessAllowed ? 'block' : 'none';\n",
              "\n",
              "      async function convertToInteractive(key) {\n",
              "        const element = document.querySelector('#df-d49cb690-4557-40dd-a056-91c24d0147e1');\n",
              "        const dataTable =\n",
              "          await google.colab.kernel.invokeFunction('convertToInteractive',\n",
              "                                                    [key], {});\n",
              "        if (!dataTable) return;\n",
              "\n",
              "        const docLinkHtml = 'Like what you see? Visit the ' +\n",
              "          '<a target=\"_blank\" href=https://colab.research.google.com/notebooks/data_table.ipynb>data table notebook</a>'\n",
              "          + ' to learn more about interactive tables.';\n",
              "        element.innerHTML = '';\n",
              "        dataTable['output_type'] = 'display_data';\n",
              "        await google.colab.output.renderOutput(dataTable, element);\n",
              "        const docLink = document.createElement('div');\n",
              "        docLink.innerHTML = docLinkHtml;\n",
              "        element.appendChild(docLink);\n",
              "      }\n",
              "    </script>\n",
              "  </div>\n",
              "\n",
              "\n",
              "<div id=\"df-9bed0247-45d2-4fb9-aa9c-21845e909fef\">\n",
              "  <button class=\"colab-df-quickchart\" onclick=\"quickchart('df-9bed0247-45d2-4fb9-aa9c-21845e909fef')\"\n",
              "            title=\"Suggest charts.\"\n",
              "            style=\"display:none;\">\n",
              "\n",
              "<svg xmlns=\"http://www.w3.org/2000/svg\" height=\"24px\"viewBox=\"0 0 24 24\"\n",
              "     width=\"24px\">\n",
              "    <g>\n",
              "        <path d=\"M19 3H5c-1.1 0-2 .9-2 2v14c0 1.1.9 2 2 2h14c1.1 0 2-.9 2-2V5c0-1.1-.9-2-2-2zM9 17H7v-7h2v7zm4 0h-2V7h2v10zm4 0h-2v-4h2v4z\"/>\n",
              "    </g>\n",
              "</svg>\n",
              "  </button>\n",
              "\n",
              "<style>\n",
              "  .colab-df-quickchart {\n",
              "      --bg-color: #E8F0FE;\n",
              "      --fill-color: #1967D2;\n",
              "      --hover-bg-color: #E2EBFA;\n",
              "      --hover-fill-color: #174EA6;\n",
              "      --disabled-fill-color: #AAA;\n",
              "      --disabled-bg-color: #DDD;\n",
              "  }\n",
              "\n",
              "  [theme=dark] .colab-df-quickchart {\n",
              "      --bg-color: #3B4455;\n",
              "      --fill-color: #D2E3FC;\n",
              "      --hover-bg-color: #434B5C;\n",
              "      --hover-fill-color: #FFFFFF;\n",
              "      --disabled-bg-color: #3B4455;\n",
              "      --disabled-fill-color: #666;\n",
              "  }\n",
              "\n",
              "  .colab-df-quickchart {\n",
              "    background-color: var(--bg-color);\n",
              "    border: none;\n",
              "    border-radius: 50%;\n",
              "    cursor: pointer;\n",
              "    display: none;\n",
              "    fill: var(--fill-color);\n",
              "    height: 32px;\n",
              "    padding: 0;\n",
              "    width: 32px;\n",
              "  }\n",
              "\n",
              "  .colab-df-quickchart:hover {\n",
              "    background-color: var(--hover-bg-color);\n",
              "    box-shadow: 0 1px 2px rgba(60, 64, 67, 0.3), 0 1px 3px 1px rgba(60, 64, 67, 0.15);\n",
              "    fill: var(--button-hover-fill-color);\n",
              "  }\n",
              "\n",
              "  .colab-df-quickchart-complete:disabled,\n",
              "  .colab-df-quickchart-complete:disabled:hover {\n",
              "    background-color: var(--disabled-bg-color);\n",
              "    fill: var(--disabled-fill-color);\n",
              "    box-shadow: none;\n",
              "  }\n",
              "\n",
              "  .colab-df-spinner {\n",
              "    border: 2px solid var(--fill-color);\n",
              "    border-color: transparent;\n",
              "    border-bottom-color: var(--fill-color);\n",
              "    animation:\n",
              "      spin 1s steps(1) infinite;\n",
              "  }\n",
              "\n",
              "  @keyframes spin {\n",
              "    0% {\n",
              "      border-color: transparent;\n",
              "      border-bottom-color: var(--fill-color);\n",
              "      border-left-color: var(--fill-color);\n",
              "    }\n",
              "    20% {\n",
              "      border-color: transparent;\n",
              "      border-left-color: var(--fill-color);\n",
              "      border-top-color: var(--fill-color);\n",
              "    }\n",
              "    30% {\n",
              "      border-color: transparent;\n",
              "      border-left-color: var(--fill-color);\n",
              "      border-top-color: var(--fill-color);\n",
              "      border-right-color: var(--fill-color);\n",
              "    }\n",
              "    40% {\n",
              "      border-color: transparent;\n",
              "      border-right-color: var(--fill-color);\n",
              "      border-top-color: var(--fill-color);\n",
              "    }\n",
              "    60% {\n",
              "      border-color: transparent;\n",
              "      border-right-color: var(--fill-color);\n",
              "    }\n",
              "    80% {\n",
              "      border-color: transparent;\n",
              "      border-right-color: var(--fill-color);\n",
              "      border-bottom-color: var(--fill-color);\n",
              "    }\n",
              "    90% {\n",
              "      border-color: transparent;\n",
              "      border-bottom-color: var(--fill-color);\n",
              "    }\n",
              "  }\n",
              "</style>\n",
              "\n",
              "  <script>\n",
              "    async function quickchart(key) {\n",
              "      const quickchartButtonEl =\n",
              "        document.querySelector('#' + key + ' button');\n",
              "      quickchartButtonEl.disabled = true;  // To prevent multiple clicks.\n",
              "      quickchartButtonEl.classList.add('colab-df-spinner');\n",
              "      try {\n",
              "        const charts = await google.colab.kernel.invokeFunction(\n",
              "            'suggestCharts', [key], {});\n",
              "      } catch (error) {\n",
              "        console.error('Error during call to suggestCharts:', error);\n",
              "      }\n",
              "      quickchartButtonEl.classList.remove('colab-df-spinner');\n",
              "      quickchartButtonEl.classList.add('colab-df-quickchart-complete');\n",
              "    }\n",
              "    (() => {\n",
              "      let quickchartButtonEl =\n",
              "        document.querySelector('#df-9bed0247-45d2-4fb9-aa9c-21845e909fef button');\n",
              "      quickchartButtonEl.style.display =\n",
              "        google.colab.kernel.accessAllowed ? 'block' : 'none';\n",
              "    })();\n",
              "  </script>\n",
              "</div>\n",
              "    </div>\n",
              "  </div>\n"
            ]
          },
          "metadata": {},
          "execution_count": 2
        }
      ],
      "source": [
        "df = pd.read_csv('https://raw.githubusercontent.com/Dong2Yo/DATA3350/main/data/cinemaTicket_Ref.csv')\n",
        "df.head()"
      ]
    },
    {
      "cell_type": "code",
      "execution_count": 3,
      "id": "7ba91f3a",
      "metadata": {
        "execution": {
          "iopub.execute_input": "2022-08-16T02:08:14.637370Z",
          "iopub.status.busy": "2022-08-16T02:08:14.636441Z",
          "iopub.status.idle": "2022-08-16T02:08:14.653766Z",
          "shell.execute_reply": "2022-08-16T02:08:14.652801Z"
        },
        "id": "7ba91f3a",
        "outputId": "0dcaa01c-cf8a-4870-8a3c-a1ee4f6593d8",
        "papermill": {
          "duration": 0.029806,
          "end_time": "2022-08-16T02:08:14.656112",
          "exception": false,
          "start_time": "2022-08-16T02:08:14.626306",
          "status": "completed"
        },
        "tags": [],
        "colab": {
          "base_uri": "https://localhost:8080/"
        }
      },
      "outputs": [
        {
          "output_type": "execute_result",
          "data": {
            "text/plain": [
              "524    2474\n",
              "489    2407\n",
              "448    2345\n",
              "163    2241\n",
              "518    2193\n",
              "       ... \n",
              "520      12\n",
              "565      10\n",
              "637       5\n",
              "566       2\n",
              "424       1\n",
              "Name: cinema_code, Length: 246, dtype: int64"
            ]
          },
          "metadata": {},
          "execution_count": 3
        }
      ],
      "source": [
        "df['cinema_code'].value_counts()"
      ]
    },
    {
      "cell_type": "code",
      "execution_count": 4,
      "id": "51f517be",
      "metadata": {
        "execution": {
          "iopub.execute_input": "2022-08-16T02:08:14.676884Z",
          "iopub.status.busy": "2022-08-16T02:08:14.676050Z",
          "iopub.status.idle": "2022-08-16T02:08:14.685193Z",
          "shell.execute_reply": "2022-08-16T02:08:14.684146Z"
        },
        "id": "51f517be",
        "outputId": "0edf37a4-a229-491f-dd44-6a9f102f9bf6",
        "papermill": {
          "duration": 0.02237,
          "end_time": "2022-08-16T02:08:14.687607",
          "exception": false,
          "start_time": "2022-08-16T02:08:14.665237",
          "status": "completed"
        },
        "tags": [],
        "colab": {
          "base_uri": "https://localhost:8080/"
        }
      },
      "outputs": [
        {
          "output_type": "execute_result",
          "data": {
            "text/plain": [
              "film_code         int64\n",
              "cinema_code       int64\n",
              "total_sales       int64\n",
              "tickets_sold      int64\n",
              "tickets_out       int64\n",
              "show_time         int64\n",
              "occu_perc       float64\n",
              "ticket_price    float64\n",
              "ticket_use        int64\n",
              "capacity        float64\n",
              "date             object\n",
              "month             int64\n",
              "quarter           int64\n",
              "day               int64\n",
              "dtype: object"
            ]
          },
          "metadata": {},
          "execution_count": 4
        }
      ],
      "source": [
        "df.dtypes"
      ]
    },
    {
      "cell_type": "code",
      "execution_count": 5,
      "id": "7069a361",
      "metadata": {
        "execution": {
          "iopub.execute_input": "2022-08-16T02:08:14.708004Z",
          "iopub.status.busy": "2022-08-16T02:08:14.707074Z",
          "iopub.status.idle": "2022-08-16T02:08:14.739694Z",
          "shell.execute_reply": "2022-08-16T02:08:14.738592Z"
        },
        "id": "7069a361",
        "papermill": {
          "duration": 0.04572,
          "end_time": "2022-08-16T02:08:14.742436",
          "exception": false,
          "start_time": "2022-08-16T02:08:14.696716",
          "status": "completed"
        },
        "tags": []
      },
      "outputs": [],
      "source": [
        "df['date'] = pd.to_datetime(df['date'])"
      ]
    },
    {
      "cell_type": "code",
      "execution_count": 6,
      "id": "216dc040",
      "metadata": {
        "execution": {
          "iopub.execute_input": "2022-08-16T02:08:14.763975Z",
          "iopub.status.busy": "2022-08-16T02:08:14.762751Z",
          "iopub.status.idle": "2022-08-16T02:08:14.771897Z",
          "shell.execute_reply": "2022-08-16T02:08:14.770820Z"
        },
        "id": "216dc040",
        "outputId": "c0071c90-db79-4022-d08b-b99b63e3eacb",
        "papermill": {
          "duration": 0.022613,
          "end_time": "2022-08-16T02:08:14.774639",
          "exception": false,
          "start_time": "2022-08-16T02:08:14.752026",
          "status": "completed"
        },
        "tags": [],
        "colab": {
          "base_uri": "https://localhost:8080/"
        }
      },
      "outputs": [
        {
          "output_type": "execute_result",
          "data": {
            "text/plain": [
              "film_code                int64\n",
              "cinema_code              int64\n",
              "total_sales              int64\n",
              "tickets_sold             int64\n",
              "tickets_out              int64\n",
              "show_time                int64\n",
              "occu_perc              float64\n",
              "ticket_price           float64\n",
              "ticket_use               int64\n",
              "capacity               float64\n",
              "date            datetime64[ns]\n",
              "month                    int64\n",
              "quarter                  int64\n",
              "day                      int64\n",
              "dtype: object"
            ]
          },
          "metadata": {},
          "execution_count": 6
        }
      ],
      "source": [
        "df.dtypes"
      ]
    },
    {
      "cell_type": "code",
      "execution_count": 7,
      "id": "13366c7b",
      "metadata": {
        "execution": {
          "iopub.execute_input": "2022-08-16T02:08:14.795648Z",
          "iopub.status.busy": "2022-08-16T02:08:14.795185Z",
          "iopub.status.idle": "2022-08-16T02:08:14.806748Z",
          "shell.execute_reply": "2022-08-16T02:08:14.805592Z"
        },
        "id": "13366c7b",
        "outputId": "f659ad42-7a5a-4650-ffd7-220cafe3d373",
        "papermill": {
          "duration": 0.024449,
          "end_time": "2022-08-16T02:08:14.808989",
          "exception": false,
          "start_time": "2022-08-16T02:08:14.784540",
          "status": "completed"
        },
        "tags": [],
        "colab": {
          "base_uri": "https://localhost:8080/"
        }
      },
      "outputs": [
        {
          "output_type": "execute_result",
          "data": {
            "text/plain": [
              "2018-05-15    790\n",
              "2018-05-08    784\n",
              "2018-05-11    778\n",
              "2018-05-10    774\n",
              "2018-05-09    766\n",
              "             ... \n",
              "2018-06-05      4\n",
              "2018-10-30      2\n",
              "2018-02-23      1\n",
              "2018-02-21      1\n",
              "2018-09-21      1\n",
              "Name: date, Length: 234, dtype: int64"
            ]
          },
          "metadata": {},
          "execution_count": 7
        }
      ],
      "source": [
        "df['date'].value_counts()"
      ]
    },
    {
      "cell_type": "code",
      "execution_count": 8,
      "id": "0f1f6e06",
      "metadata": {
        "execution": {
          "iopub.execute_input": "2022-08-16T02:08:14.831125Z",
          "iopub.status.busy": "2022-08-16T02:08:14.830077Z",
          "iopub.status.idle": "2022-08-16T02:08:14.864723Z",
          "shell.execute_reply": "2022-08-16T02:08:14.863203Z"
        },
        "id": "0f1f6e06",
        "papermill": {
          "duration": 0.048207,
          "end_time": "2022-08-16T02:08:14.867631",
          "exception": false,
          "start_time": "2022-08-16T02:08:14.819424",
          "status": "completed"
        },
        "tags": []
      },
      "outputs": [],
      "source": [
        "df['year'] = pd.DatetimeIndex(df['date']).year\n",
        "df['month'] = pd.DatetimeIndex(df['date']).month"
      ]
    },
    {
      "cell_type": "code",
      "execution_count": 9,
      "id": "3af4a5df",
      "metadata": {
        "execution": {
          "iopub.execute_input": "2022-08-16T02:08:14.888431Z",
          "iopub.status.busy": "2022-08-16T02:08:14.887959Z",
          "iopub.status.idle": "2022-08-16T02:08:14.907222Z",
          "shell.execute_reply": "2022-08-16T02:08:14.906042Z"
        },
        "id": "3af4a5df",
        "outputId": "04aca182-776e-4103-bd59-0317cf8ed573",
        "papermill": {
          "duration": 0.032798,
          "end_time": "2022-08-16T02:08:14.909929",
          "exception": false,
          "start_time": "2022-08-16T02:08:14.877131",
          "status": "completed"
        },
        "tags": [],
        "colab": {
          "base_uri": "https://localhost:8080/",
          "height": 313
        }
      },
      "outputs": [
        {
          "output_type": "execute_result",
          "data": {
            "text/plain": [
              "   film_code  cinema_code  total_sales  tickets_sold  tickets_out  show_time  \\\n",
              "0       1492          304      3900000            26            0          4   \n",
              "1       1492          352      3360000            42            0          5   \n",
              "2       1492          489      2560000            32            0          4   \n",
              "3       1492          429      1200000            12            0          1   \n",
              "4       1492          524      1200000            15            0          3   \n",
              "\n",
              "   occu_perc  ticket_price  ticket_use    capacity       date  month  quarter  \\\n",
              "0       4.26      150000.0          26  610.328638 2018-05-05      5        2   \n",
              "1       8.08       80000.0          42  519.801980 2018-05-05      5        2   \n",
              "2      20.00       80000.0          32  160.000000 2018-05-05      5        2   \n",
              "3      11.01      100000.0          12  108.991826 2018-05-05      5        2   \n",
              "4      16.67       80000.0          15   89.982004 2018-05-05      5        2   \n",
              "\n",
              "   day  year  \n",
              "0    5  2018  \n",
              "1    5  2018  \n",
              "2    5  2018  \n",
              "3    5  2018  \n",
              "4    5  2018  "
            ],
            "text/html": [
              "\n",
              "  <div id=\"df-102e8fb3-21fb-4ba9-ae58-8929e8eadcbe\" class=\"colab-df-container\">\n",
              "    <div>\n",
              "<style scoped>\n",
              "    .dataframe tbody tr th:only-of-type {\n",
              "        vertical-align: middle;\n",
              "    }\n",
              "\n",
              "    .dataframe tbody tr th {\n",
              "        vertical-align: top;\n",
              "    }\n",
              "\n",
              "    .dataframe thead th {\n",
              "        text-align: right;\n",
              "    }\n",
              "</style>\n",
              "<table border=\"1\" class=\"dataframe\">\n",
              "  <thead>\n",
              "    <tr style=\"text-align: right;\">\n",
              "      <th></th>\n",
              "      <th>film_code</th>\n",
              "      <th>cinema_code</th>\n",
              "      <th>total_sales</th>\n",
              "      <th>tickets_sold</th>\n",
              "      <th>tickets_out</th>\n",
              "      <th>show_time</th>\n",
              "      <th>occu_perc</th>\n",
              "      <th>ticket_price</th>\n",
              "      <th>ticket_use</th>\n",
              "      <th>capacity</th>\n",
              "      <th>date</th>\n",
              "      <th>month</th>\n",
              "      <th>quarter</th>\n",
              "      <th>day</th>\n",
              "      <th>year</th>\n",
              "    </tr>\n",
              "  </thead>\n",
              "  <tbody>\n",
              "    <tr>\n",
              "      <th>0</th>\n",
              "      <td>1492</td>\n",
              "      <td>304</td>\n",
              "      <td>3900000</td>\n",
              "      <td>26</td>\n",
              "      <td>0</td>\n",
              "      <td>4</td>\n",
              "      <td>4.26</td>\n",
              "      <td>150000.0</td>\n",
              "      <td>26</td>\n",
              "      <td>610.328638</td>\n",
              "      <td>2018-05-05</td>\n",
              "      <td>5</td>\n",
              "      <td>2</td>\n",
              "      <td>5</td>\n",
              "      <td>2018</td>\n",
              "    </tr>\n",
              "    <tr>\n",
              "      <th>1</th>\n",
              "      <td>1492</td>\n",
              "      <td>352</td>\n",
              "      <td>3360000</td>\n",
              "      <td>42</td>\n",
              "      <td>0</td>\n",
              "      <td>5</td>\n",
              "      <td>8.08</td>\n",
              "      <td>80000.0</td>\n",
              "      <td>42</td>\n",
              "      <td>519.801980</td>\n",
              "      <td>2018-05-05</td>\n",
              "      <td>5</td>\n",
              "      <td>2</td>\n",
              "      <td>5</td>\n",
              "      <td>2018</td>\n",
              "    </tr>\n",
              "    <tr>\n",
              "      <th>2</th>\n",
              "      <td>1492</td>\n",
              "      <td>489</td>\n",
              "      <td>2560000</td>\n",
              "      <td>32</td>\n",
              "      <td>0</td>\n",
              "      <td>4</td>\n",
              "      <td>20.00</td>\n",
              "      <td>80000.0</td>\n",
              "      <td>32</td>\n",
              "      <td>160.000000</td>\n",
              "      <td>2018-05-05</td>\n",
              "      <td>5</td>\n",
              "      <td>2</td>\n",
              "      <td>5</td>\n",
              "      <td>2018</td>\n",
              "    </tr>\n",
              "    <tr>\n",
              "      <th>3</th>\n",
              "      <td>1492</td>\n",
              "      <td>429</td>\n",
              "      <td>1200000</td>\n",
              "      <td>12</td>\n",
              "      <td>0</td>\n",
              "      <td>1</td>\n",
              "      <td>11.01</td>\n",
              "      <td>100000.0</td>\n",
              "      <td>12</td>\n",
              "      <td>108.991826</td>\n",
              "      <td>2018-05-05</td>\n",
              "      <td>5</td>\n",
              "      <td>2</td>\n",
              "      <td>5</td>\n",
              "      <td>2018</td>\n",
              "    </tr>\n",
              "    <tr>\n",
              "      <th>4</th>\n",
              "      <td>1492</td>\n",
              "      <td>524</td>\n",
              "      <td>1200000</td>\n",
              "      <td>15</td>\n",
              "      <td>0</td>\n",
              "      <td>3</td>\n",
              "      <td>16.67</td>\n",
              "      <td>80000.0</td>\n",
              "      <td>15</td>\n",
              "      <td>89.982004</td>\n",
              "      <td>2018-05-05</td>\n",
              "      <td>5</td>\n",
              "      <td>2</td>\n",
              "      <td>5</td>\n",
              "      <td>2018</td>\n",
              "    </tr>\n",
              "  </tbody>\n",
              "</table>\n",
              "</div>\n",
              "    <div class=\"colab-df-buttons\">\n",
              "\n",
              "  <div class=\"colab-df-container\">\n",
              "    <button class=\"colab-df-convert\" onclick=\"convertToInteractive('df-102e8fb3-21fb-4ba9-ae58-8929e8eadcbe')\"\n",
              "            title=\"Convert this dataframe to an interactive table.\"\n",
              "            style=\"display:none;\">\n",
              "\n",
              "  <svg xmlns=\"http://www.w3.org/2000/svg\" height=\"24px\" viewBox=\"0 -960 960 960\">\n",
              "    <path d=\"M120-120v-720h720v720H120Zm60-500h600v-160H180v160Zm220 220h160v-160H400v160Zm0 220h160v-160H400v160ZM180-400h160v-160H180v160Zm440 0h160v-160H620v160ZM180-180h160v-160H180v160Zm440 0h160v-160H620v160Z\"/>\n",
              "  </svg>\n",
              "    </button>\n",
              "\n",
              "  <style>\n",
              "    .colab-df-container {\n",
              "      display:flex;\n",
              "      gap: 12px;\n",
              "    }\n",
              "\n",
              "    .colab-df-convert {\n",
              "      background-color: #E8F0FE;\n",
              "      border: none;\n",
              "      border-radius: 50%;\n",
              "      cursor: pointer;\n",
              "      display: none;\n",
              "      fill: #1967D2;\n",
              "      height: 32px;\n",
              "      padding: 0 0 0 0;\n",
              "      width: 32px;\n",
              "    }\n",
              "\n",
              "    .colab-df-convert:hover {\n",
              "      background-color: #E2EBFA;\n",
              "      box-shadow: 0px 1px 2px rgba(60, 64, 67, 0.3), 0px 1px 3px 1px rgba(60, 64, 67, 0.15);\n",
              "      fill: #174EA6;\n",
              "    }\n",
              "\n",
              "    .colab-df-buttons div {\n",
              "      margin-bottom: 4px;\n",
              "    }\n",
              "\n",
              "    [theme=dark] .colab-df-convert {\n",
              "      background-color: #3B4455;\n",
              "      fill: #D2E3FC;\n",
              "    }\n",
              "\n",
              "    [theme=dark] .colab-df-convert:hover {\n",
              "      background-color: #434B5C;\n",
              "      box-shadow: 0px 1px 3px 1px rgba(0, 0, 0, 0.15);\n",
              "      filter: drop-shadow(0px 1px 2px rgba(0, 0, 0, 0.3));\n",
              "      fill: #FFFFFF;\n",
              "    }\n",
              "  </style>\n",
              "\n",
              "    <script>\n",
              "      const buttonEl =\n",
              "        document.querySelector('#df-102e8fb3-21fb-4ba9-ae58-8929e8eadcbe button.colab-df-convert');\n",
              "      buttonEl.style.display =\n",
              "        google.colab.kernel.accessAllowed ? 'block' : 'none';\n",
              "\n",
              "      async function convertToInteractive(key) {\n",
              "        const element = document.querySelector('#df-102e8fb3-21fb-4ba9-ae58-8929e8eadcbe');\n",
              "        const dataTable =\n",
              "          await google.colab.kernel.invokeFunction('convertToInteractive',\n",
              "                                                    [key], {});\n",
              "        if (!dataTable) return;\n",
              "\n",
              "        const docLinkHtml = 'Like what you see? Visit the ' +\n",
              "          '<a target=\"_blank\" href=https://colab.research.google.com/notebooks/data_table.ipynb>data table notebook</a>'\n",
              "          + ' to learn more about interactive tables.';\n",
              "        element.innerHTML = '';\n",
              "        dataTable['output_type'] = 'display_data';\n",
              "        await google.colab.output.renderOutput(dataTable, element);\n",
              "        const docLink = document.createElement('div');\n",
              "        docLink.innerHTML = docLinkHtml;\n",
              "        element.appendChild(docLink);\n",
              "      }\n",
              "    </script>\n",
              "  </div>\n",
              "\n",
              "\n",
              "<div id=\"df-7903b9c7-8050-4792-9dc3-96d4730a11ec\">\n",
              "  <button class=\"colab-df-quickchart\" onclick=\"quickchart('df-7903b9c7-8050-4792-9dc3-96d4730a11ec')\"\n",
              "            title=\"Suggest charts.\"\n",
              "            style=\"display:none;\">\n",
              "\n",
              "<svg xmlns=\"http://www.w3.org/2000/svg\" height=\"24px\"viewBox=\"0 0 24 24\"\n",
              "     width=\"24px\">\n",
              "    <g>\n",
              "        <path d=\"M19 3H5c-1.1 0-2 .9-2 2v14c0 1.1.9 2 2 2h14c1.1 0 2-.9 2-2V5c0-1.1-.9-2-2-2zM9 17H7v-7h2v7zm4 0h-2V7h2v10zm4 0h-2v-4h2v4z\"/>\n",
              "    </g>\n",
              "</svg>\n",
              "  </button>\n",
              "\n",
              "<style>\n",
              "  .colab-df-quickchart {\n",
              "      --bg-color: #E8F0FE;\n",
              "      --fill-color: #1967D2;\n",
              "      --hover-bg-color: #E2EBFA;\n",
              "      --hover-fill-color: #174EA6;\n",
              "      --disabled-fill-color: #AAA;\n",
              "      --disabled-bg-color: #DDD;\n",
              "  }\n",
              "\n",
              "  [theme=dark] .colab-df-quickchart {\n",
              "      --bg-color: #3B4455;\n",
              "      --fill-color: #D2E3FC;\n",
              "      --hover-bg-color: #434B5C;\n",
              "      --hover-fill-color: #FFFFFF;\n",
              "      --disabled-bg-color: #3B4455;\n",
              "      --disabled-fill-color: #666;\n",
              "  }\n",
              "\n",
              "  .colab-df-quickchart {\n",
              "    background-color: var(--bg-color);\n",
              "    border: none;\n",
              "    border-radius: 50%;\n",
              "    cursor: pointer;\n",
              "    display: none;\n",
              "    fill: var(--fill-color);\n",
              "    height: 32px;\n",
              "    padding: 0;\n",
              "    width: 32px;\n",
              "  }\n",
              "\n",
              "  .colab-df-quickchart:hover {\n",
              "    background-color: var(--hover-bg-color);\n",
              "    box-shadow: 0 1px 2px rgba(60, 64, 67, 0.3), 0 1px 3px 1px rgba(60, 64, 67, 0.15);\n",
              "    fill: var(--button-hover-fill-color);\n",
              "  }\n",
              "\n",
              "  .colab-df-quickchart-complete:disabled,\n",
              "  .colab-df-quickchart-complete:disabled:hover {\n",
              "    background-color: var(--disabled-bg-color);\n",
              "    fill: var(--disabled-fill-color);\n",
              "    box-shadow: none;\n",
              "  }\n",
              "\n",
              "  .colab-df-spinner {\n",
              "    border: 2px solid var(--fill-color);\n",
              "    border-color: transparent;\n",
              "    border-bottom-color: var(--fill-color);\n",
              "    animation:\n",
              "      spin 1s steps(1) infinite;\n",
              "  }\n",
              "\n",
              "  @keyframes spin {\n",
              "    0% {\n",
              "      border-color: transparent;\n",
              "      border-bottom-color: var(--fill-color);\n",
              "      border-left-color: var(--fill-color);\n",
              "    }\n",
              "    20% {\n",
              "      border-color: transparent;\n",
              "      border-left-color: var(--fill-color);\n",
              "      border-top-color: var(--fill-color);\n",
              "    }\n",
              "    30% {\n",
              "      border-color: transparent;\n",
              "      border-left-color: var(--fill-color);\n",
              "      border-top-color: var(--fill-color);\n",
              "      border-right-color: var(--fill-color);\n",
              "    }\n",
              "    40% {\n",
              "      border-color: transparent;\n",
              "      border-right-color: var(--fill-color);\n",
              "      border-top-color: var(--fill-color);\n",
              "    }\n",
              "    60% {\n",
              "      border-color: transparent;\n",
              "      border-right-color: var(--fill-color);\n",
              "    }\n",
              "    80% {\n",
              "      border-color: transparent;\n",
              "      border-right-color: var(--fill-color);\n",
              "      border-bottom-color: var(--fill-color);\n",
              "    }\n",
              "    90% {\n",
              "      border-color: transparent;\n",
              "      border-bottom-color: var(--fill-color);\n",
              "    }\n",
              "  }\n",
              "</style>\n",
              "\n",
              "  <script>\n",
              "    async function quickchart(key) {\n",
              "      const quickchartButtonEl =\n",
              "        document.querySelector('#' + key + ' button');\n",
              "      quickchartButtonEl.disabled = true;  // To prevent multiple clicks.\n",
              "      quickchartButtonEl.classList.add('colab-df-spinner');\n",
              "      try {\n",
              "        const charts = await google.colab.kernel.invokeFunction(\n",
              "            'suggestCharts', [key], {});\n",
              "      } catch (error) {\n",
              "        console.error('Error during call to suggestCharts:', error);\n",
              "      }\n",
              "      quickchartButtonEl.classList.remove('colab-df-spinner');\n",
              "      quickchartButtonEl.classList.add('colab-df-quickchart-complete');\n",
              "    }\n",
              "    (() => {\n",
              "      let quickchartButtonEl =\n",
              "        document.querySelector('#df-7903b9c7-8050-4792-9dc3-96d4730a11ec button');\n",
              "      quickchartButtonEl.style.display =\n",
              "        google.colab.kernel.accessAllowed ? 'block' : 'none';\n",
              "    })();\n",
              "  </script>\n",
              "</div>\n",
              "    </div>\n",
              "  </div>\n"
            ]
          },
          "metadata": {},
          "execution_count": 9
        }
      ],
      "source": [
        "df.head()"
      ]
    },
    {
      "cell_type": "code",
      "execution_count": 10,
      "id": "c7e925b9",
      "metadata": {
        "execution": {
          "iopub.execute_input": "2022-08-16T02:08:14.931772Z",
          "iopub.status.busy": "2022-08-16T02:08:14.930950Z",
          "iopub.status.idle": "2022-08-16T02:08:14.943973Z",
          "shell.execute_reply": "2022-08-16T02:08:14.942964Z"
        },
        "id": "c7e925b9",
        "outputId": "26483be2-e5be-4f6c-a1d4-6ccfcf179809",
        "papermill": {
          "duration": 0.02689,
          "end_time": "2022-08-16T02:08:14.946509",
          "exception": false,
          "start_time": "2022-08-16T02:08:14.919619",
          "status": "completed"
        },
        "tags": [],
        "colab": {
          "base_uri": "https://localhost:8080/"
        }
      },
      "outputs": [
        {
          "output_type": "execute_result",
          "data": {
            "text/plain": [
              "film_code         0\n",
              "cinema_code       0\n",
              "total_sales       0\n",
              "tickets_sold      0\n",
              "tickets_out       0\n",
              "show_time         0\n",
              "occu_perc       125\n",
              "ticket_price      0\n",
              "ticket_use        0\n",
              "capacity        125\n",
              "date              0\n",
              "month             0\n",
              "quarter           0\n",
              "day               0\n",
              "year              0\n",
              "dtype: int64"
            ]
          },
          "metadata": {},
          "execution_count": 10
        }
      ],
      "source": [
        "df.isnull().sum()"
      ]
    },
    {
      "cell_type": "code",
      "execution_count": 11,
      "id": "89e8d3dd",
      "metadata": {
        "execution": {
          "iopub.execute_input": "2022-08-16T02:08:14.969069Z",
          "iopub.status.busy": "2022-08-16T02:08:14.968263Z",
          "iopub.status.idle": "2022-08-16T02:08:15.012770Z",
          "shell.execute_reply": "2022-08-16T02:08:15.011488Z"
        },
        "id": "89e8d3dd",
        "outputId": "932902b1-8c88-4344-ca91-6485f27bd2ed",
        "papermill": {
          "duration": 0.059316,
          "end_time": "2022-08-16T02:08:15.015885",
          "exception": false,
          "start_time": "2022-08-16T02:08:14.956569",
          "status": "completed"
        },
        "tags": [],
        "colab": {
          "base_uri": "https://localhost:8080/"
        }
      },
      "outputs": [
        {
          "output_type": "execute_result",
          "data": {
            "text/plain": [
              "film_code       0\n",
              "cinema_code     0\n",
              "total_sales     0\n",
              "tickets_sold    0\n",
              "tickets_out     0\n",
              "show_time       0\n",
              "occu_perc       0\n",
              "ticket_price    0\n",
              "ticket_use      0\n",
              "capacity        0\n",
              "date            0\n",
              "month           0\n",
              "quarter         0\n",
              "day             0\n",
              "year            0\n",
              "dtype: int64"
            ]
          },
          "metadata": {},
          "execution_count": 11
        }
      ],
      "source": [
        "df.dropna(axis=0, inplace=True)\n",
        "df.isnull().sum()"
      ]
    },
    {
      "cell_type": "code",
      "execution_count": 12,
      "id": "869db9c2",
      "metadata": {
        "execution": {
          "iopub.execute_input": "2022-08-16T02:08:15.039241Z",
          "iopub.status.busy": "2022-08-16T02:08:15.038406Z",
          "iopub.status.idle": "2022-08-16T02:08:15.045686Z",
          "shell.execute_reply": "2022-08-16T02:08:15.044370Z"
        },
        "id": "869db9c2",
        "outputId": "53a1cfeb-3e65-4070-882c-33107896f98b",
        "papermill": {
          "duration": 0.022233,
          "end_time": "2022-08-16T02:08:15.048178",
          "exception": false,
          "start_time": "2022-08-16T02:08:15.025945",
          "status": "completed"
        },
        "tags": [],
        "colab": {
          "base_uri": "https://localhost:8080/"
        }
      },
      "outputs": [
        {
          "output_type": "execute_result",
          "data": {
            "text/plain": [
              "(142399, 15)"
            ]
          },
          "metadata": {},
          "execution_count": 12
        }
      ],
      "source": [
        "df.shape"
      ]
    },
    {
      "cell_type": "code",
      "execution_count": 13,
      "id": "7933ed9b",
      "metadata": {
        "execution": {
          "iopub.execute_input": "2022-08-16T02:08:15.071293Z",
          "iopub.status.busy": "2022-08-16T02:08:15.070142Z",
          "iopub.status.idle": "2022-08-16T02:08:15.590225Z",
          "shell.execute_reply": "2022-08-16T02:08:15.589080Z"
        },
        "id": "7933ed9b",
        "outputId": "b75fe01d-f334-4bc4-b35b-dbbe84a40e66",
        "papermill": {
          "duration": 0.534539,
          "end_time": "2022-08-16T02:08:15.592918",
          "exception": false,
          "start_time": "2022-08-16T02:08:15.058379",
          "status": "completed"
        },
        "tags": [],
        "colab": {
          "base_uri": "https://localhost:8080/",
          "height": 568
        }
      },
      "outputs": [
        {
          "output_type": "stream",
          "name": "stderr",
          "text": [
            "<ipython-input-13-88edb43bf50b>:1: FutureWarning: The default value of numeric_only in DataFrame.corr is deprecated. In a future version, it will default to False. Select only valid columns or specify the value of numeric_only to silence this warning.\n",
            "  sns.heatmap(df.corr())\n"
          ]
        },
        {
          "output_type": "display_data",
          "data": {
            "text/plain": [
              "<Figure size 640x480 with 2 Axes>"
            ],
            "image/png": "[encoded data removed]"
          },
          "metadata": {}
        }
      ],
      "source": [
        "sns.heatmap(df.corr())\n",
        "plt.show()"
      ]
    },
    {
      "cell_type": "code",
      "execution_count": 14,
      "id": "571e2ac6",
      "metadata": {
        "execution": {
          "iopub.execute_input": "2022-08-16T02:08:15.616450Z",
          "iopub.status.busy": "2022-08-16T02:08:15.615695Z",
          "iopub.status.idle": "2022-08-16T02:08:17.590257Z",
          "shell.execute_reply": "2022-08-16T02:08:17.589010Z"
        },
        "id": "571e2ac6",
        "outputId": "78acfaf3-f3ad-4b49-d6f6-43f055bbefd4",
        "papermill": {
          "duration": 1.989607,
          "end_time": "2022-08-16T02:08:17.593336",
          "exception": false,
          "start_time": "2022-08-16T02:08:15.603729",
          "status": "completed"
        },
        "tags": [],
        "colab": {
          "base_uri": "https://localhost:8080/",
          "height": 472
        }
      },
      "outputs": [
        {
          "output_type": "display_data",
          "data": {
            "text/plain": [
              "<Figure size 640x480 with 1 Axes>"
            ],
            "image/png": "[encoded data removed]"
          },
          "metadata": {}
        }
      ],
      "source": [
        "sns.lineplot(x=df['month'],y=df['total_sales'])\n",
        "\n",
        "plt.title(\"Sales of Ticket Movie\")\n",
        "plt.xlabel(\"Month\")\n",
        "plt.ylabel(\"Total of Sale\")\n",
        "\n",
        "plt.show()"
      ]
    },
    {
      "cell_type": "markdown",
      "source": [
        "Passing the entire dataset in long-form mode will aggregate over repeated values (each year) to show the mean and 95% confidence interval. (For details, please refer to [seaborn.lineplot](https://seaborn.pydata.org/generated/seaborn.lineplot.html).)"
      ],
      "metadata": {
        "id": "V8itKSBFqlUV"
      },
      "id": "V8itKSBFqlUV"
    },
    {
      "cell_type": "code",
      "execution_count": 15,
      "id": "2577831f",
      "metadata": {
        "execution": {
          "iopub.execute_input": "2022-08-16T02:08:17.618060Z",
          "iopub.status.busy": "2022-08-16T02:08:17.617291Z",
          "iopub.status.idle": "2022-08-16T02:08:17.628689Z",
          "shell.execute_reply": "2022-08-16T02:08:17.627256Z"
        },
        "id": "2577831f",
        "outputId": "434bace5-2b1f-467c-b097-77691a275088",
        "papermill": {
          "duration": 0.026371,
          "end_time": "2022-08-16T02:08:17.631408",
          "exception": false,
          "start_time": "2022-08-16T02:08:17.605037",
          "status": "completed"
        },
        "tags": [],
        "colab": {
          "base_uri": "https://localhost:8080/"
        }
      },
      "outputs": [
        {
          "output_type": "execute_result",
          "data": {
            "text/plain": [
              "1554    11613\n",
              "1493    10490\n",
              "1481     9525\n",
              "1484     8623\n",
              "1482     7394\n",
              "1556     6979\n",
              "1483     6970\n",
              "1485     6073\n",
              "1494     6022\n",
              "1498     5544\n",
              "1499     5187\n",
              "1576     4431\n",
              "1497     3911\n",
              "1559     3649\n",
              "1572     3581\n",
              "1558     3548\n",
              "1511     3250\n",
              "1495     2958\n",
              "1553     2850\n",
              "1573     2444\n",
              "1552     2444\n",
              "1486     2294\n",
              "1551     2268\n",
              "1562     2144\n",
              "1578     1847\n",
              "1575     1589\n",
              "1496     1443\n",
              "1480     1386\n",
              "1563     1301\n",
              "1492     1086\n",
              "1564     1044\n",
              "1569      987\n",
              "1560      931\n",
              "1550      678\n",
              "1568      663\n",
              "1500      633\n",
              "1502      601\n",
              "1512      565\n",
              "1566      558\n",
              "1571      552\n",
              "1471      466\n",
              "1557      418\n",
              "1587      414\n",
              "1570      341\n",
              "1565      313\n",
              "1567      285\n",
              "1589       67\n",
              "1584       39\n",
              "Name: film_code, dtype: int64"
            ]
          },
          "metadata": {},
          "execution_count": 15
        }
      ],
      "source": [
        "df['film_code'].value_counts()"
      ]
    },
    {
      "cell_type": "markdown",
      "source": [
        "When plotting a “wide-form” dataframe, each column will be aggregated and represented as a bar:"
      ],
      "metadata": {
        "id": "j4JiPTfPsFPu"
      },
      "id": "j4JiPTfPsFPu"
    },
    {
      "cell_type": "code",
      "execution_count": 24,
      "id": "76a22a32",
      "metadata": {
        "execution": {
          "iopub.execute_input": "2022-08-16T02:08:17.656651Z",
          "iopub.status.busy": "2022-08-16T02:08:17.655315Z",
          "iopub.status.idle": "2022-08-16T02:08:21.064289Z",
          "shell.execute_reply": "2022-08-16T02:08:21.063035Z"
        },
        "id": "76a22a32",
        "outputId": "c9993a22-4fae-4f24-d498-0b057cbf1f19",
        "papermill": {
          "duration": 3.424147,
          "end_time": "2022-08-16T02:08:21.067129",
          "exception": false,
          "start_time": "2022-08-16T02:08:17.642982",
          "status": "completed"
        },
        "tags": [],
        "colab": {
          "base_uri": "https://localhost:8080/",
          "height": 503
        }
      },
      "outputs": [
        {
          "output_type": "display_data",
          "data": {
            "text/plain": [
              "<Figure size 640x480 with 1 Axes>"
            ],
            "image/png": "[encoded data removed]"
          },
          "metadata": {}
        },
        {
          "output_type": "display_data",
          "data": {
            "text/plain": [
              "<Figure size 2000x1000 with 0 Axes>"
            ]
          },
          "metadata": {}
        }
      ],
      "source": [
        "my_plot = sns.barplot(x=df['film_code'],y=df['total_sales'])\n",
        "#rotate x-axis labels\n",
        "my_plot.set_xticklabels(my_plot.get_xticklabels(), rotation=90)\n",
        "\n",
        "plt.figure(figsize=(20, 10))\n",
        "\n",
        "plt.show()"
      ]
    },
    {
      "cell_type": "code",
      "execution_count": 25,
      "id": "9351b8b1",
      "metadata": {
        "execution": {
          "iopub.execute_input": "2022-08-16T02:08:21.092563Z",
          "iopub.status.busy": "2022-08-16T02:08:21.092088Z",
          "iopub.status.idle": "2022-08-16T02:08:21.102702Z",
          "shell.execute_reply": "2022-08-16T02:08:21.101412Z"
        },
        "id": "9351b8b1",
        "outputId": "379d6b2c-060c-4df7-fd2a-fd8b8d0c13fd",
        "papermill": {
          "duration": 0.026058,
          "end_time": "2022-08-16T02:08:21.105078",
          "exception": false,
          "start_time": "2022-08-16T02:08:21.079020",
          "status": "completed"
        },
        "tags": [],
        "colab": {
          "base_uri": "https://localhost:8080/"
        }
      },
      "outputs": [
        {
          "output_type": "execute_result",
          "data": {
            "text/plain": [
              "2    58229\n",
              "3    54029\n",
              "4    22172\n",
              "1     7969\n",
              "Name: quarter, dtype: int64"
            ]
          },
          "metadata": {},
          "execution_count": 25
        }
      ],
      "source": [
        "df['quarter'].value_counts()"
      ]
    },
    {
      "cell_type": "code",
      "execution_count": 26,
      "id": "14b6ea79",
      "metadata": {
        "execution": {
          "iopub.execute_input": "2022-08-16T02:08:21.130235Z",
          "iopub.status.busy": "2022-08-16T02:08:21.129522Z",
          "iopub.status.idle": "2022-08-16T02:08:23.064139Z",
          "shell.execute_reply": "2022-08-16T02:08:23.062867Z"
        },
        "id": "14b6ea79",
        "outputId": "5f03286a-a95f-48b3-844a-df39fc38e038",
        "papermill": {
          "duration": 1.950172,
          "end_time": "2022-08-16T02:08:23.066879",
          "exception": false,
          "start_time": "2022-08-16T02:08:21.116707",
          "status": "completed"
        },
        "tags": [],
        "colab": {
          "base_uri": "https://localhost:8080/",
          "height": 472
        }
      },
      "outputs": [
        {
          "output_type": "display_data",
          "data": {
            "text/plain": [
              "<Figure size 640x480 with 1 Axes>"
            ],
            "image/png": "[encoded data removed]"
          },
          "metadata": {}
        }
      ],
      "source": [
        "sns.lineplot(data=df, x=\"quarter\", y=\"tickets_sold\",color=\"b\")\n",
        "\n",
        "plt.title(\"Tickets Sold by Quarter\")\n",
        "plt.xlabel(\"Years\")\n",
        "plt.ylabel(\"Passengers\")\n",
        "plt.show()"
      ]
    },
    {
      "cell_type": "code",
      "execution_count": 27,
      "id": "c05597bd",
      "metadata": {
        "execution": {
          "iopub.execute_input": "2022-08-16T02:08:23.092362Z",
          "iopub.status.busy": "2022-08-16T02:08:23.091914Z",
          "iopub.status.idle": "2022-08-16T02:08:24.958921Z",
          "shell.execute_reply": "2022-08-16T02:08:24.957662Z"
        },
        "id": "c05597bd",
        "outputId": "1afcd05c-f8c3-4388-c9ee-7ba88030c343",
        "papermill": {
          "duration": 1.882698,
          "end_time": "2022-08-16T02:08:24.961418",
          "exception": false,
          "start_time": "2022-08-16T02:08:23.078720",
          "status": "completed"
        },
        "tags": [],
        "colab": {
          "base_uri": "https://localhost:8080/",
          "height": 514
        }
      },
      "outputs": [
        {
          "output_type": "display_data",
          "data": {
            "text/plain": [
              "<Figure size 500x500 with 1 Axes>"
            ],
            "image/png": "[encoded data removed]"
          },
          "metadata": {}
        }
      ],
      "source": [
        "sns.catplot(x=\"quarter\", y=\"total_sales\", data=df,jitter=False)\n",
        "\n",
        "plt.title(\"Total Sales by Quarter\")\n",
        "\n",
        "plt.show()"
      ]
    },
    {
      "cell_type": "code",
      "execution_count": 28,
      "id": "b93d13b1",
      "metadata": {
        "execution": {
          "iopub.execute_input": "2022-08-16T02:08:24.988317Z",
          "iopub.status.busy": "2022-08-16T02:08:24.987152Z",
          "iopub.status.idle": "2022-08-16T02:08:25.235645Z",
          "shell.execute_reply": "2022-08-16T02:08:25.234360Z"
        },
        "id": "b93d13b1",
        "outputId": "658458a0-fbfd-4cbf-a156-2b5495fd1973",
        "papermill": {
          "duration": 0.264648,
          "end_time": "2022-08-16T02:08:25.238313",
          "exception": false,
          "start_time": "2022-08-16T02:08:24.973665",
          "status": "completed"
        },
        "tags": [],
        "colab": {
          "base_uri": "https://localhost:8080/",
          "height": 472
        }
      },
      "outputs": [
        {
          "output_type": "display_data",
          "data": {
            "text/plain": [
              "<Figure size 640x480 with 1 Axes>"
            ],
            "image/png": "[encoded data removed]"
          },
          "metadata": {}
        }
      ],
      "source": [
        "sns.boxplot( x=df[\"quarter\"], y=df[\"tickets_sold\"],width=0.5)\n",
        "\n",
        "plt.title(\"Boxplot of Ticket Sold\")\n",
        "plt.ylabel(\"Ticket Sold\")\n",
        "plt.xlabel(\"Quarter\")\n",
        "\n",
        "plt.show()"
      ]
    },
    {
      "cell_type": "code",
      "execution_count": 29,
      "id": "dff4447f",
      "metadata": {
        "execution": {
          "iopub.execute_input": "2022-08-16T02:08:25.265347Z",
          "iopub.status.busy": "2022-08-16T02:08:25.264878Z",
          "iopub.status.idle": "2022-08-16T02:08:29.077296Z",
          "shell.execute_reply": "2022-08-16T02:08:29.076032Z"
        },
        "id": "dff4447f",
        "outputId": "02650fcc-eaef-4869-97aa-7b54fcf6e746",
        "papermill": {
          "duration": 3.829192,
          "end_time": "2022-08-16T02:08:29.080087",
          "exception": false,
          "start_time": "2022-08-16T02:08:25.250895",
          "status": "completed"
        },
        "tags": [],
        "colab": {
          "base_uri": "https://localhost:8080/",
          "height": 472
        }
      },
      "outputs": [
        {
          "output_type": "display_data",
          "data": {
            "text/plain": [
              "<Figure size 640x480 with 1 Axes>"
            ],
            "image/png": "[encoded data removed]"
          },
          "metadata": {}
        }
      ],
      "source": [
        "sns.barplot(x=df['quarter'],y=df['total_sales'])\n",
        "sns.lineplot(x=df['quarter'],y=df['total_sales'])\n",
        "\n",
        "plt.title(\"Total Sales\")\n",
        "plt.xlabel(\"Quarter\")\n",
        "plt.ylabel(\"Total Sales\")\n",
        "plt.show()"
      ]
    },
    {
      "cell_type": "code",
      "execution_count": 30,
      "id": "b259a2e1",
      "metadata": {
        "execution": {
          "iopub.execute_input": "2022-08-16T02:08:29.109061Z",
          "iopub.status.busy": "2022-08-16T02:08:29.108333Z",
          "iopub.status.idle": "2022-08-16T02:08:35.157792Z",
          "shell.execute_reply": "2022-08-16T02:08:35.156300Z"
        },
        "id": "b259a2e1",
        "outputId": "b2bedff0-e6ec-4f74-f23a-17563bbc538f",
        "papermill": {
          "duration": 6.068101,
          "end_time": "2022-08-16T02:08:35.161376",
          "exception": false,
          "start_time": "2022-08-16T02:08:29.093275",
          "status": "completed"
        },
        "tags": [],
        "colab": {
          "base_uri": "https://localhost:8080/",
          "height": 513
        }
      },
      "outputs": [
        {
          "output_type": "display_data",
          "data": {
            "text/plain": [
              "<Figure size 500x500 with 6 Axes>"
            ],
            "image/png": "[encoded data removed]"
          },
          "metadata": {}
        }
      ],
      "source": [
        "sns.pairplot(data=df, vars=[\"tickets_sold\", \"ticket_price\"])\n",
        "\n",
        "plt.show()"
      ]
    },
    {
      "cell_type": "code",
      "execution_count": 31,
      "id": "469151ec",
      "metadata": {
        "execution": {
          "iopub.execute_input": "2022-08-16T02:08:35.192923Z",
          "iopub.status.busy": "2022-08-16T02:08:35.191915Z",
          "iopub.status.idle": "2022-08-16T02:08:35.381367Z",
          "shell.execute_reply": "2022-08-16T02:08:35.379039Z"
        },
        "id": "469151ec",
        "outputId": "b1a34c95-7b0d-4c09-80e2-ceaba6d31ffc",
        "papermill": {
          "duration": 0.209232,
          "end_time": "2022-08-16T02:08:35.385165",
          "exception": false,
          "start_time": "2022-08-16T02:08:35.175933",
          "status": "completed"
        },
        "tags": [],
        "colab": {
          "base_uri": "https://localhost:8080/",
          "height": 452
        }
      },
      "outputs": [
        {
          "output_type": "display_data",
          "data": {
            "text/plain": [
              "<Figure size 640x480 with 1 Axes>"
            ],
            "image/png": "[encoded data removed]"
          },
          "metadata": {}
        }
      ],
      "source": [
        "sns.boxplot(df['tickets_sold'])\n",
        "\n",
        "plt.title(\"Boxplot of Notes\")\n",
        "\n",
        "plt.show()"
      ]
    },
    {
      "cell_type": "code",
      "execution_count": 32,
      "id": "564c1264",
      "metadata": {
        "execution": {
          "iopub.execute_input": "2022-08-16T02:08:35.415347Z",
          "iopub.status.busy": "2022-08-16T02:08:35.414221Z",
          "iopub.status.idle": "2022-08-16T02:08:35.434017Z",
          "shell.execute_reply": "2022-08-16T02:08:35.432589Z"
        },
        "id": "564c1264",
        "outputId": "fc1179a6-4ac2-4690-8359-2be937d67c87",
        "papermill": {
          "duration": 0.037568,
          "end_time": "2022-08-16T02:08:35.436704",
          "exception": false,
          "start_time": "2022-08-16T02:08:35.399136",
          "status": "completed"
        },
        "tags": [],
        "colab": {
          "base_uri": "https://localhost:8080/",
          "height": 313
        }
      },
      "outputs": [
        {
          "output_type": "execute_result",
          "data": {
            "text/plain": [
              "   film_code  cinema_code  total_sales  tickets_sold  tickets_out  show_time  \\\n",
              "0       1492          304      3900000            26            0          4   \n",
              "1       1492          352      3360000            42            0          5   \n",
              "2       1492          489      2560000            32            0          4   \n",
              "3       1492          429      1200000            12            0          1   \n",
              "4       1492          524      1200000            15            0          3   \n",
              "\n",
              "   occu_perc  ticket_price  ticket_use    capacity       date  month  quarter  \\\n",
              "0       4.26      150000.0          26  610.328638 2018-05-05      5        2   \n",
              "1       8.08       80000.0          42  519.801980 2018-05-05      5        2   \n",
              "2      20.00       80000.0          32  160.000000 2018-05-05      5        2   \n",
              "3      11.01      100000.0          12  108.991826 2018-05-05      5        2   \n",
              "4      16.67       80000.0          15   89.982004 2018-05-05      5        2   \n",
              "\n",
              "   day  year  \n",
              "0    5  2018  \n",
              "1    5  2018  \n",
              "2    5  2018  \n",
              "3    5  2018  \n",
              "4    5  2018  "
            ],
            "text/html": [
              "\n",
              "  <div id=\"df-1252c323-7844-4738-b099-66854d35bff3\" class=\"colab-df-container\">\n",
              "    <div>\n",
              "<style scoped>\n",
              "    .dataframe tbody tr th:only-of-type {\n",
              "        vertical-align: middle;\n",
              "    }\n",
              "\n",
              "    .dataframe tbody tr th {\n",
              "        vertical-align: top;\n",
              "    }\n",
              "\n",
              "    .dataframe thead th {\n",
              "        text-align: right;\n",
              "    }\n",
              "</style>\n",
              "<table border=\"1\" class=\"dataframe\">\n",
              "  <thead>\n",
              "    <tr style=\"text-align: right;\">\n",
              "      <th></th>\n",
              "      <th>film_code</th>\n",
              "      <th>cinema_code</th>\n",
              "      <th>total_sales</th>\n",
              "      <th>tickets_sold</th>\n",
              "      <th>tickets_out</th>\n",
              "      <th>show_time</th>\n",
              "      <th>occu_perc</th>\n",
              "      <th>ticket_price</th>\n",
              "      <th>ticket_use</th>\n",
              "      <th>capacity</th>\n",
              "      <th>date</th>\n",
              "      <th>month</th>\n",
              "      <th>quarter</th>\n",
              "      <th>day</th>\n",
              "      <th>year</th>\n",
              "    </tr>\n",
              "  </thead>\n",
              "  <tbody>\n",
              "    <tr>\n",
              "      <th>0</th>\n",
              "      <td>1492</td>\n",
              "      <td>304</td>\n",
              "      <td>3900000</td>\n",
              "      <td>26</td>\n",
              "      <td>0</td>\n",
              "      <td>4</td>\n",
              "      <td>4.26</td>\n",
              "      <td>150000.0</td>\n",
              "      <td>26</td>\n",
              "      <td>610.328638</td>\n",
              "      <td>2018-05-05</td>\n",
              "      <td>5</td>\n",
              "      <td>2</td>\n",
              "      <td>5</td>\n",
              "      <td>2018</td>\n",
              "    </tr>\n",
              "    <tr>\n",
              "      <th>1</th>\n",
              "      <td>1492</td>\n",
              "      <td>352</td>\n",
              "      <td>3360000</td>\n",
              "      <td>42</td>\n",
              "      <td>0</td>\n",
              "      <td>5</td>\n",
              "      <td>8.08</td>\n",
              "      <td>80000.0</td>\n",
              "      <td>42</td>\n",
              "      <td>519.801980</td>\n",
              "      <td>2018-05-05</td>\n",
              "      <td>5</td>\n",
              "      <td>2</td>\n",
              "      <td>5</td>\n",
              "      <td>2018</td>\n",
              "    </tr>\n",
              "    <tr>\n",
              "      <th>2</th>\n",
              "      <td>1492</td>\n",
              "      <td>489</td>\n",
              "      <td>2560000</td>\n",
              "      <td>32</td>\n",
              "      <td>0</td>\n",
              "      <td>4</td>\n",
              "      <td>20.00</td>\n",
              "      <td>80000.0</td>\n",
              "      <td>32</td>\n",
              "      <td>160.000000</td>\n",
              "      <td>2018-05-05</td>\n",
              "      <td>5</td>\n",
              "      <td>2</td>\n",
              "      <td>5</td>\n",
              "      <td>2018</td>\n",
              "    </tr>\n",
              "    <tr>\n",
              "      <th>3</th>\n",
              "      <td>1492</td>\n",
              "      <td>429</td>\n",
              "      <td>1200000</td>\n",
              "      <td>12</td>\n",
              "      <td>0</td>\n",
              "      <td>1</td>\n",
              "      <td>11.01</td>\n",
              "      <td>100000.0</td>\n",
              "      <td>12</td>\n",
              "      <td>108.991826</td>\n",
              "      <td>2018-05-05</td>\n",
              "      <td>5</td>\n",
              "      <td>2</td>\n",
              "      <td>5</td>\n",
              "      <td>2018</td>\n",
              "    </tr>\n",
              "    <tr>\n",
              "      <th>4</th>\n",
              "      <td>1492</td>\n",
              "      <td>524</td>\n",
              "      <td>1200000</td>\n",
              "      <td>15</td>\n",
              "      <td>0</td>\n",
              "      <td>3</td>\n",
              "      <td>16.67</td>\n",
              "      <td>80000.0</td>\n",
              "      <td>15</td>\n",
              "      <td>89.982004</td>\n",
              "      <td>2018-05-05</td>\n",
              "      <td>5</td>\n",
              "      <td>2</td>\n",
              "      <td>5</td>\n",
              "      <td>2018</td>\n",
              "    </tr>\n",
              "  </tbody>\n",
              "</table>\n",
              "</div>\n",
              "    <div class=\"colab-df-buttons\">\n",
              "\n",
              "  <div class=\"colab-df-container\">\n",
              "    <button class=\"colab-df-convert\" onclick=\"convertToInteractive('df-1252c323-7844-4738-b099-66854d35bff3')\"\n",
              "            title=\"Convert this dataframe to an interactive table.\"\n",
              "            style=\"display:none;\">\n",
              "\n",
              "  <svg xmlns=\"http://www.w3.org/2000/svg\" height=\"24px\" viewBox=\"0 -960 960 960\">\n",
              "    <path d=\"M120-120v-720h720v720H120Zm60-500h600v-160H180v160Zm220 220h160v-160H400v160Zm0 220h160v-160H400v160ZM180-400h160v-160H180v160Zm440 0h160v-160H620v160ZM180-180h160v-160H180v160Zm440 0h160v-160H620v160Z\"/>\n",
              "  </svg>\n",
              "    </button>\n",
              "\n",
              "  <style>\n",
              "    .colab-df-container {\n",
              "      display:flex;\n",
              "      gap: 12px;\n",
              "    }\n",
              "\n",
              "    .colab-df-convert {\n",
              "      background-color: #E8F0FE;\n",
              "      border: none;\n",
              "      border-radius: 50%;\n",
              "      cursor: pointer;\n",
              "      display: none;\n",
              "      fill: #1967D2;\n",
              "      height: 32px;\n",
              "      padding: 0 0 0 0;\n",
              "      width: 32px;\n",
              "    }\n",
              "\n",
              "    .colab-df-convert:hover {\n",
              "      background-color: #E2EBFA;\n",
              "      box-shadow: 0px 1px 2px rgba(60, 64, 67, 0.3), 0px 1px 3px 1px rgba(60, 64, 67, 0.15);\n",
              "      fill: #174EA6;\n",
              "    }\n",
              "\n",
              "    .colab-df-buttons div {\n",
              "      margin-bottom: 4px;\n",
              "    }\n",
              "\n",
              "    [theme=dark] .colab-df-convert {\n",
              "      background-color: #3B4455;\n",
              "      fill: #D2E3FC;\n",
              "    }\n",
              "\n",
              "    [theme=dark] .colab-df-convert:hover {\n",
              "      background-color: #434B5C;\n",
              "      box-shadow: 0px 1px 3px 1px rgba(0, 0, 0, 0.15);\n",
              "      filter: drop-shadow(0px 1px 2px rgba(0, 0, 0, 0.3));\n",
              "      fill: #FFFFFF;\n",
              "    }\n",
              "  </style>\n",
              "\n",
              "    <script>\n",
              "      const buttonEl =\n",
              "        document.querySelector('#df-1252c323-7844-4738-b099-66854d35bff3 button.colab-df-convert');\n",
              "      buttonEl.style.display =\n",
              "        google.colab.kernel.accessAllowed ? 'block' : 'none';\n",
              "\n",
              "      async function convertToInteractive(key) {\n",
              "        const element = document.querySelector('#df-1252c323-7844-4738-b099-66854d35bff3');\n",
              "        const dataTable =\n",
              "          await google.colab.kernel.invokeFunction('convertToInteractive',\n",
              "                                                    [key], {});\n",
              "        if (!dataTable) return;\n",
              "\n",
              "        const docLinkHtml = 'Like what you see? Visit the ' +\n",
              "          '<a target=\"_blank\" href=https://colab.research.google.com/notebooks/data_table.ipynb>data table notebook</a>'\n",
              "          + ' to learn more about interactive tables.';\n",
              "        element.innerHTML = '';\n",
              "        dataTable['output_type'] = 'display_data';\n",
              "        await google.colab.output.renderOutput(dataTable, element);\n",
              "        const docLink = document.createElement('div');\n",
              "        docLink.innerHTML = docLinkHtml;\n",
              "        element.appendChild(docLink);\n",
              "      }\n",
              "    </script>\n",
              "  </div>\n",
              "\n",
              "\n",
              "<div id=\"df-298b5350-5393-4568-9a04-15872f035765\">\n",
              "  <button class=\"colab-df-quickchart\" onclick=\"quickchart('df-298b5350-5393-4568-9a04-15872f035765')\"\n",
              "            title=\"Suggest charts.\"\n",
              "            style=\"display:none;\">\n",
              "\n",
              "<svg xmlns=\"http://www.w3.org/2000/svg\" height=\"24px\"viewBox=\"0 0 24 24\"\n",
              "     width=\"24px\">\n",
              "    <g>\n",
              "        <path d=\"M19 3H5c-1.1 0-2 .9-2 2v14c0 1.1.9 2 2 2h14c1.1 0 2-.9 2-2V5c0-1.1-.9-2-2-2zM9 17H7v-7h2v7zm4 0h-2V7h2v10zm4 0h-2v-4h2v4z\"/>\n",
              "    </g>\n",
              "</svg>\n",
              "  </button>\n",
              "\n",
              "<style>\n",
              "  .colab-df-quickchart {\n",
              "      --bg-color: #E8F0FE;\n",
              "      --fill-color: #1967D2;\n",
              "      --hover-bg-color: #E2EBFA;\n",
              "      --hover-fill-color: #174EA6;\n",
              "      --disabled-fill-color: #AAA;\n",
              "      --disabled-bg-color: #DDD;\n",
              "  }\n",
              "\n",
              "  [theme=dark] .colab-df-quickchart {\n",
              "      --bg-color: #3B4455;\n",
              "      --fill-color: #D2E3FC;\n",
              "      --hover-bg-color: #434B5C;\n",
              "      --hover-fill-color: #FFFFFF;\n",
              "      --disabled-bg-color: #3B4455;\n",
              "      --disabled-fill-color: #666;\n",
              "  }\n",
              "\n",
              "  .colab-df-quickchart {\n",
              "    background-color: var(--bg-color);\n",
              "    border: none;\n",
              "    border-radius: 50%;\n",
              "    cursor: pointer;\n",
              "    display: none;\n",
              "    fill: var(--fill-color);\n",
              "    height: 32px;\n",
              "    padding: 0;\n",
              "    width: 32px;\n",
              "  }\n",
              "\n",
              "  .colab-df-quickchart:hover {\n",
              "    background-color: var(--hover-bg-color);\n",
              "    box-shadow: 0 1px 2px rgba(60, 64, 67, 0.3), 0 1px 3px 1px rgba(60, 64, 67, 0.15);\n",
              "    fill: var(--button-hover-fill-color);\n",
              "  }\n",
              "\n",
              "  .colab-df-quickchart-complete:disabled,\n",
              "  .colab-df-quickchart-complete:disabled:hover {\n",
              "    background-color: var(--disabled-bg-color);\n",
              "    fill: var(--disabled-fill-color);\n",
              "    box-shadow: none;\n",
              "  }\n",
              "\n",
              "  .colab-df-spinner {\n",
              "    border: 2px solid var(--fill-color);\n",
              "    border-color: transparent;\n",
              "    border-bottom-color: var(--fill-color);\n",
              "    animation:\n",
              "      spin 1s steps(1) infinite;\n",
              "  }\n",
              "\n",
              "  @keyframes spin {\n",
              "    0% {\n",
              "      border-color: transparent;\n",
              "      border-bottom-color: var(--fill-color);\n",
              "      border-left-color: var(--fill-color);\n",
              "    }\n",
              "    20% {\n",
              "      border-color: transparent;\n",
              "      border-left-color: var(--fill-color);\n",
              "      border-top-color: var(--fill-color);\n",
              "    }\n",
              "    30% {\n",
              "      border-color: transparent;\n",
              "      border-left-color: var(--fill-color);\n",
              "      border-top-color: var(--fill-color);\n",
              "      border-right-color: var(--fill-color);\n",
              "    }\n",
              "    40% {\n",
              "      border-color: transparent;\n",
              "      border-right-color: var(--fill-color);\n",
              "      border-top-color: var(--fill-color);\n",
              "    }\n",
              "    60% {\n",
              "      border-color: transparent;\n",
              "      border-right-color: var(--fill-color);\n",
              "    }\n",
              "    80% {\n",
              "      border-color: transparent;\n",
              "      border-right-color: var(--fill-color);\n",
              "      border-bottom-color: var(--fill-color);\n",
              "    }\n",
              "    90% {\n",
              "      border-color: transparent;\n",
              "      border-bottom-color: var(--fill-color);\n",
              "    }\n",
              "  }\n",
              "</style>\n",
              "\n",
              "  <script>\n",
              "    async function quickchart(key) {\n",
              "      const quickchartButtonEl =\n",
              "        document.querySelector('#' + key + ' button');\n",
              "      quickchartButtonEl.disabled = true;  // To prevent multiple clicks.\n",
              "      quickchartButtonEl.classList.add('colab-df-spinner');\n",
              "      try {\n",
              "        const charts = await google.colab.kernel.invokeFunction(\n",
              "            'suggestCharts', [key], {});\n",
              "      } catch (error) {\n",
              "        console.error('Error during call to suggestCharts:', error);\n",
              "      }\n",
              "      quickchartButtonEl.classList.remove('colab-df-spinner');\n",
              "      quickchartButtonEl.classList.add('colab-df-quickchart-complete');\n",
              "    }\n",
              "    (() => {\n",
              "      let quickchartButtonEl =\n",
              "        document.querySelector('#df-298b5350-5393-4568-9a04-15872f035765 button');\n",
              "      quickchartButtonEl.style.display =\n",
              "        google.colab.kernel.accessAllowed ? 'block' : 'none';\n",
              "    })();\n",
              "  </script>\n",
              "</div>\n",
              "    </div>\n",
              "  </div>\n"
            ]
          },
          "metadata": {},
          "execution_count": 32
        }
      ],
      "source": [
        "df.head()"
      ]
    },
    {
      "cell_type": "code",
      "execution_count": 33,
      "id": "15239f3f",
      "metadata": {
        "execution": {
          "iopub.execute_input": "2022-08-16T02:08:35.466210Z",
          "iopub.status.busy": "2022-08-16T02:08:35.465731Z",
          "iopub.status.idle": "2022-08-16T02:08:35.473990Z",
          "shell.execute_reply": "2022-08-16T02:08:35.472618Z"
        },
        "id": "15239f3f",
        "papermill": {
          "duration": 0.026078,
          "end_time": "2022-08-16T02:08:35.476605",
          "exception": false,
          "start_time": "2022-08-16T02:08:35.450527",
          "status": "completed"
        },
        "tags": []
      },
      "outputs": [],
      "source": [
        "X = df[['ticket_price', 'occu_perc', 'show_time', 'tickets_sold']]\n",
        "y = df['total_sales']"
      ]
    },
    {
      "cell_type": "code",
      "execution_count": 34,
      "id": "4b512177",
      "metadata": {
        "execution": {
          "iopub.execute_input": "2022-08-16T02:08:35.506754Z",
          "iopub.status.busy": "2022-08-16T02:08:35.505951Z",
          "iopub.status.idle": "2022-08-16T02:08:37.408586Z",
          "shell.execute_reply": "2022-08-16T02:08:37.406657Z"
        },
        "id": "4b512177",
        "outputId": "c9ec3cf6-9fc4-4b0c-fb19-a0c5783c1084",
        "papermill": {
          "duration": 1.920852,
          "end_time": "2022-08-16T02:08:37.411379",
          "exception": false,
          "start_time": "2022-08-16T02:08:35.490527",
          "status": "completed"
        },
        "tags": [],
        "colab": {
          "base_uri": "https://localhost:8080/",
          "height": 449
        }
      },
      "outputs": [
        {
          "output_type": "display_data",
          "data": {
            "text/plain": [
              "<Figure size 640x480 with 1 Axes>"
            ],
            "image/png": "[encoded data removed]"
          },
          "metadata": {}
        }
      ],
      "source": [
        "sns.barplot(x=df['quarter'],y=df['capacity'])\n",
        "\n",
        "plt.show()"
      ]
    },
    {
      "cell_type": "code",
      "execution_count": 35,
      "id": "aa77459e",
      "metadata": {
        "execution": {
          "iopub.execute_input": "2022-08-16T02:08:37.443367Z",
          "iopub.status.busy": "2022-08-16T02:08:37.442545Z",
          "iopub.status.idle": "2022-08-16T02:08:37.687853Z",
          "shell.execute_reply": "2022-08-16T02:08:37.686294Z"
        },
        "id": "aa77459e",
        "papermill": {
          "duration": 0.265159,
          "end_time": "2022-08-16T02:08:37.690865",
          "exception": false,
          "start_time": "2022-08-16T02:08:37.425706",
          "status": "completed"
        },
        "tags": []
      },
      "outputs": [],
      "source": [
        "from sklearn.model_selection import train_test_split\n",
        "X_train,X_test,y_train,y_test = train_test_split(X,y,train_size=0.7,random_state=100)"
      ]
    },
    {
      "cell_type": "code",
      "execution_count": 37,
      "id": "4f795a92",
      "metadata": {
        "execution": {
          "iopub.execute_input": "2022-08-16T02:08:37.720932Z",
          "iopub.status.busy": "2022-08-16T02:08:37.720381Z",
          "iopub.status.idle": "2022-08-16T02:08:37.843167Z",
          "shell.execute_reply": "2022-08-16T02:08:37.841588Z"
        },
        "id": "4f795a92",
        "outputId": "570c8afd-8690-4f0f-a443-d1f871eb8b3e",
        "papermill": {
          "duration": 0.14099,
          "end_time": "2022-08-16T02:08:37.845964",
          "exception": false,
          "start_time": "2022-08-16T02:08:37.704974",
          "status": "completed"
        },
        "tags": [],
        "colab": {
          "base_uri": "https://localhost:8080/",
          "height": 74
        }
      },
      "outputs": [
        {
          "output_type": "execute_result",
          "data": {
            "text/plain": [
              "LinearRegression()"
            ],
            "text/html": [
              "<style>#sk-container-id-1 {color: black;background-color: white;}#sk-container-id-1 pre{padding: 0;}#sk-container-id-1 div.sk-toggleable {background-color: white;}#sk-container-id-1 label.sk-toggleable__label {cursor: pointer;display: block;width: 100%;margin-bottom: 0;padding: 0.3em;box-sizing: border-box;text-align: center;}#sk-container-id-1 label.sk-toggleable__label-arrow:before {content: \"▸\";float: left;margin-right: 0.25em;color: #696969;}#sk-container-id-1 label.sk-toggleable__label-arrow:hover:before {color: black;}#sk-container-id-1 div.sk-estimator:hover label.sk-toggleable__label-arrow:before {color: black;}#sk-container-id-1 div.sk-toggleable__content {max-height: 0;max-width: 0;overflow: hidden;text-align: left;background-color: #f0f8ff;}#sk-container-id-1 div.sk-toggleable__content pre {margin: 0.2em;color: black;border-radius: 0.25em;background-color: #f0f8ff;}#sk-container-id-1 input.sk-toggleable__control:checked~div.sk-toggleable__content {max-height: 200px;max-width: 100%;overflow: auto;}#sk-container-id-1 input.sk-toggleable__control:checked~label.sk-toggleable__label-arrow:before {content: \"▾\";}#sk-container-id-1 div.sk-estimator input.sk-toggleable__control:checked~label.sk-toggleable__label {background-color: #d4ebff;}#sk-container-id-1 div.sk-label input.sk-toggleable__control:checked~label.sk-toggleable__label {background-color: #d4ebff;}#sk-container-id-1 input.sk-hidden--visually {border: 0;clip: rect(1px 1px 1px 1px);clip: rect(1px, 1px, 1px, 1px);height: 1px;margin: -1px;overflow: hidden;padding: 0;position: absolute;width: 1px;}#sk-container-id-1 div.sk-estimator {font-family: monospace;background-color: #f0f8ff;border: 1px dotted black;border-radius: 0.25em;box-sizing: border-box;margin-bottom: 0.5em;}#sk-container-id-1 div.sk-estimator:hover {background-color: #d4ebff;}#sk-container-id-1 div.sk-parallel-item::after {content: \"\";width: 100%;border-bottom: 1px solid gray;flex-grow: 1;}#sk-container-id-1 div.sk-label:hover label.sk-toggleable__label {background-color: #d4ebff;}#sk-container-id-1 div.sk-serial::before {content: \"\";position: absolute;border-left: 1px solid gray;box-sizing: border-box;top: 0;bottom: 0;left: 50%;z-index: 0;}#sk-container-id-1 div.sk-serial {display: flex;flex-direction: column;align-items: center;background-color: white;padding-right: 0.2em;padding-left: 0.2em;position: relative;}#sk-container-id-1 div.sk-item {position: relative;z-index: 1;}#sk-container-id-1 div.sk-parallel {display: flex;align-items: stretch;justify-content: center;background-color: white;position: relative;}#sk-container-id-1 div.sk-item::before, #sk-container-id-1 div.sk-parallel-item::before {content: \"\";position: absolute;border-left: 1px solid gray;box-sizing: border-box;top: 0;bottom: 0;left: 50%;z-index: -1;}#sk-container-id-1 div.sk-parallel-item {display: flex;flex-direction: column;z-index: 1;position: relative;background-color: white;}#sk-container-id-1 div.sk-parallel-item:first-child::after {align-self: flex-end;width: 50%;}#sk-container-id-1 div.sk-parallel-item:last-child::after {align-self: flex-start;width: 50%;}#sk-container-id-1 div.sk-parallel-item:only-child::after {width: 0;}#sk-container-id-1 div.sk-dashed-wrapped {border: 1px dashed gray;margin: 0 0.4em 0.5em 0.4em;box-sizing: border-box;padding-bottom: 0.4em;background-color: white;}#sk-container-id-1 div.sk-label label {font-family: monospace;font-weight: bold;display: inline-block;line-height: 1.2em;}#sk-container-id-1 div.sk-label-container {text-align: center;}#sk-container-id-1 div.sk-container {/* jupyter's `normalize.less` sets `[hidden] { display: none; }` but bootstrap.min.css set `[hidden] { display: none !important; }` so we also need the `!important` here to be able to override the default hidden behavior on the sphinx rendered scikit-learn.org. See: https://github.com/scikit-learn/scikit-learn/issues/21755 */display: inline-block !important;position: relative;}#sk-container-id-1 div.sk-text-repr-fallback {display: none;}</style><div id=\"sk-container-id-1\" class=\"sk-top-container\"><div class=\"sk-text-repr-fallback\"><pre>LinearRegression()</pre><b>In a Jupyter environment, please rerun this cell to show the HTML representation or trust the notebook. <br />On GitHub, the HTML representation is unable to render, please try loading this page with nbviewer.org.</b></div><div class=\"sk-container\" hidden><div class=\"sk-item\"><div class=\"sk-estimator sk-toggleable\"><input class=\"sk-toggleable__control sk-hidden--visually\" id=\"sk-estimator-id-1\" type=\"checkbox\" checked><label for=\"sk-estimator-id-1\" class=\"sk-toggleable__label sk-toggleable__label-arrow\">LinearRegression</label><div class=\"sk-toggleable__content\"><pre>LinearRegression()</pre></div></div></div></div></div>"
            ]
          },
          "metadata": {},
          "execution_count": 37
        }
      ],
      "source": [
        "from sklearn.linear_model import LinearRegression\n",
        "\n",
        "lr = LinearRegression()\n",
        "lr.fit(X_train,y_train)"
      ]
    },
    {
      "cell_type": "code",
      "execution_count": 38,
      "id": "5c3fd1a7",
      "metadata": {
        "execution": {
          "iopub.execute_input": "2022-08-16T02:08:37.876592Z",
          "iopub.status.busy": "2022-08-16T02:08:37.875704Z",
          "iopub.status.idle": "2022-08-16T02:08:37.890348Z",
          "shell.execute_reply": "2022-08-16T02:08:37.888902Z"
        },
        "id": "5c3fd1a7",
        "papermill": {
          "duration": 0.034429,
          "end_time": "2022-08-16T02:08:37.894543",
          "exception": false,
          "start_time": "2022-08-16T02:08:37.860114",
          "status": "completed"
        },
        "tags": []
      },
      "outputs": [],
      "source": [
        "y_pred = lr.predict(X_test)"
      ]
    },
    {
      "cell_type": "code",
      "execution_count": 40,
      "id": "1b23a410",
      "metadata": {
        "execution": {
          "iopub.execute_input": "2022-08-16T02:08:37.942721Z",
          "iopub.status.busy": "2022-08-16T02:08:37.942085Z",
          "iopub.status.idle": "2022-08-16T02:08:38.423442Z",
          "shell.execute_reply": "2022-08-16T02:08:38.421835Z"
        },
        "id": "1b23a410",
        "outputId": "8f9090c2-712c-41fe-9b3e-869a975154b0",
        "papermill": {
          "duration": 0.50902,
          "end_time": "2022-08-16T02:08:38.426571",
          "exception": false,
          "start_time": "2022-08-16T02:08:37.917551",
          "status": "completed"
        },
        "tags": [],
        "colab": {
          "base_uri": "https://localhost:8080/",
          "height": 472
        }
      },
      "outputs": [
        {
          "output_type": "display_data",
          "data": {
            "text/plain": [
              "<Figure size 640x480 with 1 Axes>"
            ],
            "image/png": "[encoded data removed]"
          },
          "metadata": {}
        }
      ],
      "source": [
        "c = [i for i in range (1,len(y_test)+1,1)]\n",
        "plt.plot(c,y_test,color='g',linestyle='-')\n",
        "plt.plot(c,y_pred,color='b',linestyle='-')\n",
        "plt.xlabel('Future')\n",
        "plt.ylabel('Price')\n",
        "plt.title('Prediction')\n",
        "plt.show()"
      ]
    },
    {
      "cell_type": "code",
      "execution_count": 41,
      "id": "ff04751a",
      "metadata": {
        "execution": {
          "iopub.execute_input": "2022-08-16T02:08:38.457160Z",
          "iopub.status.busy": "2022-08-16T02:08:38.456728Z",
          "iopub.status.idle": "2022-08-16T02:08:38.738462Z",
          "shell.execute_reply": "2022-08-16T02:08:38.737250Z"
        },
        "id": "ff04751a",
        "outputId": "7fe9161b-5f45-46b8-b93b-f9dddeddcf50",
        "papermill": {
          "duration": 0.30013,
          "end_time": "2022-08-16T02:08:38.741168",
          "exception": false,
          "start_time": "2022-08-16T02:08:38.441038",
          "status": "completed"
        },
        "tags": [],
        "colab": {
          "base_uri": "https://localhost:8080/",
          "height": 484
        }
      },
      "outputs": [
        {
          "output_type": "display_data",
          "data": {
            "text/plain": [
              "<Figure size 1200x600 with 1 Axes>"
            ],
            "image/png": "[encoded data removed]"
          },
          "metadata": {}
        }
      ],
      "source": [
        "plt.figure(figsize=(12,6))\n",
        "plt.scatter(y_test,y_pred,color='b',linestyle='-')\n",
        "plt.show()"
      ]
    },
    {
      "cell_type": "code",
      "execution_count": 42,
      "id": "88f440e3",
      "metadata": {
        "execution": {
          "iopub.execute_input": "2022-08-16T02:08:38.773597Z",
          "iopub.status.busy": "2022-08-16T02:08:38.772489Z",
          "iopub.status.idle": "2022-08-16T02:08:38.778135Z",
          "shell.execute_reply": "2022-08-16T02:08:38.776936Z"
        },
        "id": "88f440e3",
        "papermill": {
          "duration": 0.024563,
          "end_time": "2022-08-16T02:08:38.780693",
          "exception": false,
          "start_time": "2022-08-16T02:08:38.756130",
          "status": "completed"
        },
        "tags": []
      },
      "outputs": [],
      "source": [
        "from sklearn.metrics import mean_squared_error\n",
        "from sklearn.metrics import r2_score"
      ]
    },
    {
      "cell_type": "code",
      "execution_count": 43,
      "id": "c0c5416b",
      "metadata": {
        "execution": {
          "iopub.execute_input": "2022-08-16T02:08:38.813949Z",
          "iopub.status.busy": "2022-08-16T02:08:38.811734Z",
          "iopub.status.idle": "2022-08-16T02:08:38.822312Z",
          "shell.execute_reply": "2022-08-16T02:08:38.821322Z"
        },
        "id": "c0c5416b",
        "outputId": "7cd3b187-53eb-47cc-e731-d2436efb1730",
        "papermill": {
          "duration": 0.029342,
          "end_time": "2022-08-16T02:08:38.824897",
          "exception": false,
          "start_time": "2022-08-16T02:08:38.795555",
          "status": "completed"
        },
        "tags": [],
        "colab": {
          "base_uri": "https://localhost:8080/"
        }
      },
      "outputs": [
        {
          "output_type": "execute_result",
          "data": {
            "text/plain": [
              "0.8679348967732425"
            ]
          },
          "metadata": {},
          "execution_count": 43
        }
      ],
      "source": [
        "r_squared = r2_score(y_test, y_pred)\n",
        "r_squared"
      ]
    },
    {
      "cell_type": "code",
      "execution_count": 44,
      "id": "3a292d2f",
      "metadata": {
        "execution": {
          "iopub.execute_input": "2022-08-16T02:08:38.856744Z",
          "iopub.status.busy": "2022-08-16T02:08:38.856256Z",
          "iopub.status.idle": "2022-08-16T02:08:38.866430Z",
          "shell.execute_reply": "2022-08-16T02:08:38.864439Z"
        },
        "id": "3a292d2f",
        "outputId": "f8e3c995-270d-4ea8-8136-9758a388d32d",
        "papermill": {
          "duration": 0.029432,
          "end_time": "2022-08-16T02:08:38.869254",
          "exception": false,
          "start_time": "2022-08-16T02:08:38.839822",
          "status": "completed"
        },
        "tags": [],
        "colab": {
          "base_uri": "https://localhost:8080/"
        }
      },
      "outputs": [
        {
          "output_type": "stream",
          "name": "stdout",
          "text": [
            "MAE: 4907683.225380731\n",
            "MSE: 115523980276191.83\n",
            "RMSE: 10748208.235617314\n"
          ]
        }
      ],
      "source": [
        "import sklearn.metrics as metrics\n",
        "print('MAE: {}'.format(metrics.mean_absolute_error(y_test, y_pred)))\n",
        "print('MSE: {}'.format(metrics.mean_squared_error(y_test, y_pred)))\n",
        "print('RMSE: {}'.format(np.sqrt(metrics.mean_squared_error(y_test, y_pred))))"
      ]
    }
  ],
  "metadata": {
    "kernelspec": {
      "display_name": "Python 3",
      "language": "python",
      "name": "python3"
    },
    "language_info": {
      "codemirror_mode": {
        "name": "ipython",
        "version": 3
      },
      "file_extension": ".py",
      "mimetype": "text/x-python",
      "name": "python",
      "nbconvert_exporter": "python",
      "pygments_lexer": "ipython3",
      "version": "3.7.12"
    },
    "papermill": {
      "default_parameters": {},
      "duration": 36.540244,
      "end_time": "2022-08-16T02:08:39.706200",
      "environment_variables": {},
      "exception": null,
      "input_path": "__notebook__.ipynb",
      "output_path": "__notebook__.ipynb",
      "parameters": {},
      "start_time": "2022-08-16T02:08:03.165956",
      "version": "2.3.4"
    },
    "colab": {
      "provenance": [],
      "include_colab_link": true
    }
  },
  "nbformat": 4,
  "nbformat_minor": 5
}